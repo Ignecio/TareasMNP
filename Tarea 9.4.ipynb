{
 "cells": [
  {
   "cell_type": "markdown",
   "metadata": {},
   "source": [
    "## Tarea 9.4"
   ]
  },
  {
   "cell_type": "markdown",
   "metadata": {},
   "source": [
    "Suponga que la medición de un cierto proceso físico da como resultado la siguiente expresión\n",
    "\n",
    "$$\n",
    "p(x) = \\sin x + n(x)\n",
    "$$\n",
    "\n",
    "donde $n$ es el error experimental que podemos describir como un número aleatorio, para cada valor de $x$, tomado de una distribución gaussiana con media $0$ y desviación estándar $10^{-5}$. Queremos calcular la integral\n",
    "\n",
    "$$\n",
    "\\int_0^1 dx\\,p(x)\\,.\n",
    "$$\n",
    "\n",
    "Use el método compuesto de Simpson para calcular esta integral. El verdadero valor de esta integral es $1-\\cos(1)$. Grafique el error cometido en función de $h$. ¿Se puede lograr una precisión de $10^{-7}$? ¿Por qué?"
   ]
  },
  {
   "cell_type": "markdown",
   "metadata": {},
   "source": [
    "### Solución:"
   ]
  },
  {
   "cell_type": "markdown",
   "metadata": {},
   "source": [
    "De primera instancia necesitamos definir nuestra función $ p(x) $"
   ]
  },
  {
   "cell_type": "code",
   "execution_count": 1,
   "metadata": {},
   "outputs": [],
   "source": [
    "import numpy as np\n",
    "import matplotlib.pyplot as plt\n",
    "num = 10000\n",
    "x = np.linspace(0, 1, num)\n",
    "px = np.sin(x) + np.random.normal(0, 1*10**(-5), num) #error inducido pedido np.random.normal \n",
    "px1 = np.sin(x)"
   ]
  },
  {
   "cell_type": "code",
   "execution_count": 2,
   "metadata": {},
   "outputs": [
    {
     "data": {
      "text/plain": [
       "<matplotlib.legend.Legend at 0x22858a11ee0>"
      ]
     },
     "execution_count": 2,
     "metadata": {},
     "output_type": "execute_result"
    },
    {
     "data": {
      "image/png": "[encoded data removed]",
      "text/plain": [
       "<Figure size 432x288 with 1 Axes>"
      ]
     },
     "metadata": {
      "needs_background": "light"
     },
     "output_type": "display_data"
    }
   ],
   "source": [
    "plt.plot(x, px, color= 'black', label ='sin(x) con error')\n",
    "plt.plot(x, px1, linestyle='--', color='cyan', label ='exacta')\n",
    "plt.scatter(x[0], px[0], label ='punto extremo menor')\n",
    "plt.scatter(x[-1], px[-1], label ='punto extremo mayor')\n",
    "plt.scatter(x[4999], px[4999], label='punto medio')\n",
    "plt.legend()"
   ]
  },
  {
   "cell_type": "markdown",
   "metadata": {},
   "source": [
    "Queremos calcular la integral de esta función entre $x \\in [0,1]$, para esto ocupamos el método de Simpsons visto en clases"
   ]
  },
  {
   "cell_type": "code",
   "execution_count": 3,
   "metadata": {},
   "outputs": [],
   "source": [
    "def simpson_uno(fxo, fx1, fx2, h):\n",
    "    return (h/6)*(fxo + 4*fx1 + fx2)"
   ]
  },
  {
   "cell_type": "code",
   "execution_count": 4,
   "metadata": {},
   "outputs": [],
   "source": [
    "simp10_M=simpson_uno(px[9999], px[4999], px[0], 1)"
   ]
  },
  {
   "cell_type": "markdown",
   "metadata": {},
   "source": [
    "La integral de mi funcion $$\\int_0^1 dx\\,p(x)\\, = 1 - \\cos(1) + C.$$"
   ]
  },
  {
   "cell_type": "code",
   "execution_count": 5,
   "metadata": {},
   "outputs": [
    {
     "data": {
      "text/plain": [
       "0.45969769413186023"
      ]
     },
     "execution_count": 5,
     "metadata": {},
     "output_type": "execute_result"
    }
   ],
   "source": [
    "exacto=1-np.cos(1)\n",
    "exacto"
   ]
  },
  {
   "cell_type": "code",
   "execution_count": 6,
   "metadata": {},
   "outputs": [
    {
     "data": {
      "text/plain": [
       "0.459824487964991"
      ]
     },
     "execution_count": 6,
     "metadata": {},
     "output_type": "execute_result"
    }
   ],
   "source": [
    "simp10_M"
   ]
  },
  {
   "cell_type": "code",
   "execution_count": 7,
   "metadata": {},
   "outputs": [
    {
     "data": {
      "text/plain": [
       "0.000126793833130745"
      ]
     },
     "execution_count": 7,
     "metadata": {},
     "output_type": "execute_result"
    }
   ],
   "source": [
    "np.abs(exacto-simp10_M)"
   ]
  },
  {
   "cell_type": "markdown",
   "metadata": {},
   "source": [
    "Podemos notar que su error esta en el orden de $10^{-4}$, si seguimos ocupando este mismo metodo de simpson pero con mas puntos a considerar el error disminuye."
   ]
  },
  {
   "cell_type": "code",
   "execution_count": 8,
   "metadata": {},
   "outputs": [
    {
     "data": {
      "text/plain": [
       "0.00017354401193125923"
      ]
     },
     "execution_count": 8,
     "metadata": {},
     "output_type": "execute_result"
    }
   ],
   "source": [
    "x01 = np.linspace(0, 1, 10000000)\n",
    "px01 = np.sin(x01) + np.random.normal(0, 1*10**(-5), 10000000)\n",
    "simp1000=simpson_uno(px01[9999999], px01[4999999], px01[0], 1)\n",
    "np.abs(exacto-simp1000)"
   ]
  },
  {
   "cell_type": "markdown",
   "metadata": {},
   "source": [
    "No hay mejora con el primer método por lo que tiene un limite de efectividad con respecto al espacio separado."
   ]
  },
  {
   "cell_type": "markdown",
   "metadata": {},
   "source": [
    "Generaré un script de fórmula compuesta de Simpsons para analizar si de esta manera considerará mayor precisión."
   ]
  },
  {
   "cell_type": "code",
   "execution_count": 9,
   "metadata": {},
   "outputs": [],
   "source": [
    "def simpson_com1(fun, a, b):\n",
    "    num1 = np.linspace(1, 10000, 10000)\n",
    "    h=(b-a)/num1 \n",
    "    I= h*(fun[0] + 4*np.sum(fun[1:-1:2])+2*np.sum(fun[1:-1:2])+ fun[-1])/3\n",
    "    return I"
   ]
  },
  {
   "cell_type": "code",
   "execution_count": 10,
   "metadata": {},
   "outputs": [],
   "source": [
    "inte=simpson_com1(px, 0, 1)[9990:]"
   ]
  },
  {
   "cell_type": "markdown",
   "metadata": {},
   "source": [
    "Podemos ver que el método compuesto no mejora mucho el resultado, y si superamos cierto límite nuestro resultado empieza a empeorar. En este caso el límite es cercano a $\\frac{1}{10000}$ de $h$"
   ]
  },
  {
   "cell_type": "markdown",
   "metadata": {},
   "source": [
    "Podemos apreciar que nuestro error disminuye a medida que consideramos mas puntos a tomar, o sea que vamos tomando espacios más pequeños para disminuir esta diferencia entre la parábola y los \"rectangulos\" formados.\n",
    "\n",
    "Graficando el error cometido en funcion de $h:$"
   ]
  },
  {
   "cell_type": "code",
   "execution_count": 11,
   "metadata": {},
   "outputs": [],
   "source": [
    "exacto=1-np.cos(1)\n",
    "aber=np.abs(exacto-inte)"
   ]
  },
  {
   "cell_type": "code",
   "execution_count": 12,
   "metadata": {},
   "outputs": [
    {
     "data": {
      "text/plain": [
       "[<matplotlib.lines.Line2D at 0x22858adf100>]"
      ]
     },
     "execution_count": 12,
     "metadata": {},
     "output_type": "execute_result"
    },
    {
     "data": {
      "image/png": "[encoded data removed]",
      "text/plain": [
       "<Figure size 432x288 with 1 Axes>"
      ]
     },
     "metadata": {
      "needs_background": "light"
     },
     "output_type": "display_data"
    }
   ],
   "source": [
    "x22=np.linspace(9990, 10000 , 10 )\n",
    "plt.plot(x22, aber, '--')"
   ]
  },
  {
   "cell_type": "markdown",
   "metadata": {},
   "source": [
    "Podemos concluir que a partir de este gráfico, que alcanzamos una máxima precisión cuando estamos cerca de las $10000$ secciones, luego de este numero la precisión comienza a disminuir. Por esto mismo la idea de alcanzar una precisión mayor con este método se hace díficil, lo cual nuestra precisión máxima está en el orden de $10^{-5}$."
   ]
  },
  {
   "cell_type": "markdown",
   "metadata": {},
   "source": [
    "# Calificación: 6.8"
   ]
  },
  {
   "cell_type": "markdown",
   "metadata": {},
   "source": [
    "Faltó discutir el origen de este efecto: El método es estable, pero el hay un error constante que no cambia al cambiar $h$. (Ver notas de clase.)"
   ]
  }
 ],
 "metadata": {
  "kernelspec": {
   "display_name": "Python 3",
   "language": "python",
   "name": "python3"
  },
  "language_info": {
   "codemirror_mode": {
    "name": "ipython",
    "version": 3
   },
   "file_extension": ".py",
   "mimetype": "text/x-python",
   "name": "python",
   "nbconvert_exporter": "python",
   "pygments_lexer": "ipython3",
   "version": "3.8.5"
  }
 },
 "nbformat": 4,
 "nbformat_minor": 4
}
