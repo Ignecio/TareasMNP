{
 "cells": [
  {
   "cell_type": "markdown",
   "metadata": {},
   "source": [
    "## Tarea 6.10 ##\n"
   ]
  },
  {
   "cell_type": "markdown",
   "metadata": {},
   "source": [
    "Para ocupar el método de bisección debemos escoger unos parámetros $[a, b]$ que cumplan con $f(a)f(b) < 0$. Dado que nuestra raíz cúbica a encontrar el $\\sqrt[3]{31}$, por lo tanto \n",
    "$$f(x) = x^3 - 31$$ \n",
    "$$ 0 = x^3 - 31 $$"
   ]
  },
  {
   "cell_type": "markdown",
   "metadata": {},
   "source": [
    "Importamos las librerias y definimos las funciones:"
   ]
  },
  {
   "cell_type": "code",
   "execution_count": 1,
   "metadata": {
    "scrolled": true
   },
   "outputs": [
    {
     "data": {
      "text/plain": [
       "[<matplotlib.lines.Line2D at 0x23d03345e80>]"
      ]
     },
     "execution_count": 1,
     "metadata": {},
     "output_type": "execute_result"
    },
    {
     "data": {
      "image/png": "[encoded data removed]",
      "text/plain": [
       "<Figure size 432x288 with 1 Axes>"
      ]
     },
     "metadata": {
      "needs_background": "light"
     },
     "output_type": "display_data"
    }
   ],
   "source": [
    "def func_1(x):\n",
    "    return x**3 -31\n",
    "\n",
    "import numpy as np\n",
    "import matplotlib.pyplot as plt\n",
    "x = np.linspace(2, 5, 100)\n",
    "plt.plot(x, func_1(x))"
   ]
  },
  {
   "cell_type": "code",
   "execution_count": 2,
   "metadata": {},
   "outputs": [],
   "source": [
    "def func_1(x):\n",
    "    return x**3 -31"
   ]
  },
  {
   "cell_type": "code",
   "execution_count": 3,
   "metadata": {},
   "outputs": [],
   "source": [
    "def func_0(x):\n",
    "    return np.cbrt(x)"
   ]
  },
  {
   "cell_type": "code",
   "execution_count": 4,
   "metadata": {},
   "outputs": [
    {
     "data": {
      "text/plain": [
       "3.141380652391393"
      ]
     },
     "execution_count": 4,
     "metadata": {},
     "output_type": "execute_result"
    }
   ],
   "source": [
    "valor_real = func_0(31)\n",
    "valor_real"
   ]
  },
  {
   "cell_type": "code",
   "execution_count": 116,
   "metadata": {},
   "outputs": [],
   "source": [
    "epsilon = [0.0001, 0.00001, 0.000001, 0.0000001, 0.00000001, 0.000000001, 0.0000000001]"
   ]
  },
  {
   "cell_type": "markdown",
   "metadata": {},
   "source": [
    "Defino el método de bisección "
   ]
  },
  {
   "cell_type": "code",
   "execution_count": 117,
   "metadata": {},
   "outputs": [],
   "source": [
    "def biseccion(f, a, b, epsilon, N=1000000): #donde f es la funcion a llamar, a y b los intervalos, \n",
    "                       #N el número por defecto a ocupar en mi ciclo for.\n",
    "    for i in range(N):\n",
    "        \n",
    "        p = a + (b - a)/2\n",
    "        print(p)\n",
    "        if abs(f(p)) < epsilon:\n",
    "            print(\"Cercano a cero\", p, \"encontrado después de\", i, \"iteraciones.\")\n",
    "            return p\n",
    "        \n",
    "        elif f(p)*f(a) > 0:\n",
    "            a = p\n",
    "        else:\n",
    "            b = p\n",
    "    print(\"No se encontró el cero después de\", N, \"iteraciones.\")"
   ]
  },
  {
   "cell_type": "code",
   "execution_count": 118,
   "metadata": {},
   "outputs": [
    {
     "name": "stdout",
     "output_type": "stream",
     "text": [
      "3.0\n",
      "3.5\n",
      "3.25\n",
      "3.125\n",
      "3.1875\n",
      "3.15625\n",
      "3.140625\n",
      "3.1484375\n",
      "3.14453125\n",
      "3.142578125\n",
      "3.1416015625\n",
      "3.14111328125\n",
      "3.141357421875\n",
      "3.1414794921875\n",
      "3.14141845703125\n",
      "3.141387939453125\n",
      "3.1413726806640625\n",
      "3.1413803100585938\n",
      "Cercano a cero 3.1413803100585938 encontrado después de 17 iteraciones.\n",
      "3.0\n",
      "3.5\n",
      "3.25\n",
      "3.125\n",
      "3.1875\n",
      "3.15625\n",
      "3.140625\n",
      "3.1484375\n",
      "3.14453125\n",
      "3.142578125\n",
      "3.1416015625\n",
      "3.14111328125\n",
      "3.141357421875\n",
      "3.1414794921875\n",
      "3.14141845703125\n",
      "3.141387939453125\n",
      "3.1413726806640625\n",
      "3.1413803100585938\n",
      "3.1413841247558594\n",
      "3.1413822174072266\n",
      "3.14138126373291\n",
      "3.141380786895752\n",
      "Cercano a cero 3.141380786895752 encontrado después de 21 iteraciones.\n",
      "3.0\n",
      "3.5\n",
      "3.25\n",
      "3.125\n",
      "3.1875\n",
      "3.15625\n",
      "3.140625\n",
      "3.1484375\n",
      "3.14453125\n",
      "3.142578125\n",
      "3.1416015625\n",
      "3.14111328125\n",
      "3.141357421875\n",
      "3.1414794921875\n",
      "3.14141845703125\n",
      "3.141387939453125\n",
      "3.1413726806640625\n",
      "3.1413803100585938\n",
      "3.1413841247558594\n",
      "3.1413822174072266\n",
      "3.14138126373291\n",
      "3.141380786895752\n",
      "3.141380548477173\n",
      "3.1413806676864624\n",
      "Cercano a cero 3.1413806676864624 encontrado después de 23 iteraciones.\n",
      "3.0\n",
      "3.5\n",
      "3.25\n",
      "3.125\n",
      "3.1875\n",
      "3.15625\n",
      "3.140625\n",
      "3.1484375\n",
      "3.14453125\n",
      "3.142578125\n",
      "3.1416015625\n",
      "3.14111328125\n",
      "3.141357421875\n",
      "3.1414794921875\n",
      "3.14141845703125\n",
      "3.141387939453125\n",
      "3.1413726806640625\n",
      "3.1413803100585938\n",
      "3.1413841247558594\n",
      "3.1413822174072266\n",
      "3.14138126373291\n",
      "3.141380786895752\n",
      "3.141380548477173\n",
      "3.1413806676864624\n",
      "3.1413806080818176\n",
      "3.14138063788414\n",
      "3.141380652785301\n",
      "Cercano a cero 3.141380652785301 encontrado después de 26 iteraciones.\n",
      "3.0\n",
      "3.5\n",
      "3.25\n",
      "3.125\n",
      "3.1875\n",
      "3.15625\n",
      "3.140625\n",
      "3.1484375\n",
      "3.14453125\n",
      "3.142578125\n",
      "3.1416015625\n",
      "3.14111328125\n",
      "3.141357421875\n",
      "3.1414794921875\n",
      "3.14141845703125\n",
      "3.141387939453125\n",
      "3.1413726806640625\n",
      "3.1413803100585938\n",
      "3.1413841247558594\n",
      "3.1413822174072266\n",
      "3.14138126373291\n",
      "3.141380786895752\n",
      "3.141380548477173\n",
      "3.1413806676864624\n",
      "3.1413806080818176\n",
      "3.14138063788414\n",
      "3.141380652785301\n",
      "3.1413806453347206\n",
      "3.141380649060011\n",
      "3.141380650922656\n",
      "3.1413806518539786\n",
      "3.14138065231964\n",
      "Cercano a cero 3.14138065231964 encontrado después de 31 iteraciones.\n",
      "3.0\n",
      "3.5\n",
      "3.25\n",
      "3.125\n",
      "3.1875\n",
      "3.15625\n",
      "3.140625\n",
      "3.1484375\n",
      "3.14453125\n",
      "3.142578125\n",
      "3.1416015625\n",
      "3.14111328125\n",
      "3.141357421875\n",
      "3.1414794921875\n",
      "3.14141845703125\n",
      "3.141387939453125\n",
      "3.1413726806640625\n",
      "3.1413803100585938\n",
      "3.1413841247558594\n",
      "3.1413822174072266\n",
      "3.14138126373291\n",
      "3.141380786895752\n",
      "3.141380548477173\n",
      "3.1413806676864624\n",
      "3.1413806080818176\n",
      "3.14138063788414\n",
      "3.141380652785301\n",
      "3.1413806453347206\n",
      "3.141380649060011\n",
      "3.141380650922656\n",
      "3.1413806518539786\n",
      "3.14138065231964\n",
      "3.1413806525524706\n",
      "3.1413806524360552\n",
      "3.1413806523778476\n",
      "Cercano a cero 3.1413806523778476 encontrado después de 34 iteraciones.\n",
      "3.0\n",
      "3.5\n",
      "3.25\n",
      "3.125\n",
      "3.1875\n",
      "3.15625\n",
      "3.140625\n",
      "3.1484375\n",
      "3.14453125\n",
      "3.142578125\n",
      "3.1416015625\n",
      "3.14111328125\n",
      "3.141357421875\n",
      "3.1414794921875\n",
      "3.14141845703125\n",
      "3.141387939453125\n",
      "3.1413726806640625\n",
      "3.1413803100585938\n",
      "3.1413841247558594\n",
      "3.1413822174072266\n",
      "3.14138126373291\n",
      "3.141380786895752\n",
      "3.141380548477173\n",
      "3.1413806676864624\n",
      "3.1413806080818176\n",
      "3.14138063788414\n",
      "3.141380652785301\n",
      "3.1413806453347206\n",
      "3.141380649060011\n",
      "3.141380650922656\n",
      "3.1413806518539786\n",
      "3.14138065231964\n",
      "3.1413806525524706\n",
      "3.1413806524360552\n",
      "3.1413806523778476\n",
      "3.1413806524069514\n",
      "3.1413806523923995\n",
      "Cercano a cero 3.1413806523923995 encontrado después de 36 iteraciones.\n",
      "[3.1413803100585938, 3.141380786895752, 3.1413806676864624, 3.141380652785301, 3.14138065231964, 3.1413806523778476, 3.1413806523923995]\n"
     ]
    }
   ],
   "source": [
    "list_bisecc = [biseccion(func_1, 2, 4, epsilon[0]), biseccion(func_1, 2, 4, epsilon[1]),\n",
    "              biseccion(func_1, 2, 4, epsilon[2]), biseccion(func_1, 2, 4, epsilon[3]),\n",
    "              biseccion(func_1, 2, 4, epsilon[4]), biseccion(func_1, 2, 4, epsilon[5]),\n",
    "              biseccion(func_1, 2, 4, epsilon[6])]\n",
    "print(list_bisecc)"
   ]
  },
  {
   "cell_type": "code",
   "execution_count": 62,
   "metadata": {},
   "outputs": [
    {
     "data": {
      "text/plain": [
       "2.1416212002507615"
      ]
     },
     "execution_count": 62,
     "metadata": {},
     "output_type": "execute_result"
    }
   ],
   "source": [
    "(valor_real - list_bisecc[0] /valor_real)"
   ]
  },
  {
   "cell_type": "markdown",
   "metadata": {},
   "source": [
    "Definimos un funcion de error relativo para que cada elemento de la lista de "
   ]
  },
  {
   "cell_type": "code",
   "execution_count": 119,
   "metadata": {},
   "outputs": [],
   "source": [
    "def error_relativo(f):\n",
    "    \n",
    "    er = abs(valor_real - f)/valor_real\n",
    "    er_pct= er*100 ## error relativo.\n",
    "    print(\"El error relativo es\", er_pct, \"%\")\n",
    "    return er_pct#el error relativo esta asociado al epsilon que nosotros le demos a la biseccion\n",
    "                                           #mientras mas pequeño el epsilon, menor será el error relativo, a su vez mayor \n",
    "                                           #será el tiempo empleado."
   ]
  },
  {
   "cell_type": "code",
   "execution_count": 120,
   "metadata": {},
   "outputs": [
    {
     "name": "stdout",
     "output_type": "stream",
     "text": [
      "El error relativo es 1.0897526830458384e-05 %\n",
      "El error relativo es 4.281695650590837e-06 %\n",
      "El error relativo es 4.868900303285317e-07 %\n",
      "El error relativo es 1.2539327795743588e-08 %\n",
      "El error relativo es 2.2841316584060403e-09 %\n",
      "El error relativo es 4.311992266373367e-10 %\n",
      "El error relativo es 3.2033881304839194e-11 %\n",
      "[1.0897526830458384e-05, 4.281695650590837e-06, 4.868900303285317e-07, 1.2539327795743588e-08, 2.2841316584060403e-09, 4.311992266373367e-10, 3.2033881304839194e-11]\n"
     ]
    }
   ],
   "source": [
    "list_erelativo = list(map(error_relativo, list_bisecc))\n",
    "print(list_erelativo)"
   ]
  },
  {
   "cell_type": "code",
   "execution_count": 91,
   "metadata": {},
   "outputs": [],
   "source": [
    "from timeit import default_timer\n",
    "def tiempo(f):\n",
    "    inicio = default_timer()\n",
    "    f\n",
    "    fin = default_timer()\n",
    "    k = fin-inicio\n",
    "    return (k)"
   ]
  },
  {
   "cell_type": "code",
   "execution_count": 121,
   "metadata": {},
   "outputs": [
    {
     "name": "stdout",
     "output_type": "stream",
     "text": [
      "[2.0000061340397224e-07, 9.999985195463523e-08, 9.999985195463523e-08, 9.999985195463523e-08, 1.00000761449337e-07, 9.999985195463523e-08, 9.999985195463523e-08]\n"
     ]
    }
   ],
   "source": [
    "list_t = list(map(tiempo, list_bisecc))\n",
    "print(list_t)"
   ]
  },
  {
   "cell_type": "code",
   "execution_count": 127,
   "metadata": {},
   "outputs": [
    {
     "data": {
      "text/plain": [
       "[<matplotlib.lines.Line2D at 0x23d043d30d0>]"
      ]
     },
     "execution_count": 127,
     "metadata": {},
     "output_type": "execute_result"
    },
    {
     "data": {
      "image/png": "[encoded data removed]",
      "text/plain": [
       "<Figure size 432x288 with 1 Axes>"
      ]
     },
     "metadata": {
      "needs_background": "light"
     },
     "output_type": "display_data"
    }
   ],
   "source": [
    "plt.plot(list_erelativo, list_t)"
   ]
  },
  {
   "cell_type": "markdown",
   "metadata": {},
   "source": [
    "# Calificación: 6.5"
   ]
  },
  {
   "cell_type": "markdown",
   "metadata": {},
   "source": [
    "Al medir el tiempo se usó la variable list_bisecc, pero esta variable contiene solo números. Por lo cual no tarda prácticamente nada (no hay que ejecutar el método, ya se hizo antes y se guardó el resultado en list_bisecc)."
   ]
  }
 ],
 "metadata": {
  "kernelspec": {
   "display_name": "Python 3",
   "language": "python",
   "name": "python3"
  },
  "language_info": {
   "codemirror_mode": {
    "name": "ipython",
    "version": 3
   },
   "file_extension": ".py",
   "mimetype": "text/x-python",
   "name": "python",
   "nbconvert_exporter": "python",
   "pygments_lexer": "ipython3",
   "version": "3.8.5"
  }
 },
 "nbformat": 4,
 "nbformat_minor": 4
}
