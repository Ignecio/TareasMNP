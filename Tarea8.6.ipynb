{
 "cells": [
  {
   "cell_type": "markdown",
   "metadata": {},
   "source": [
    "## Tarea 8.6\n",
    "\n",
    "Los siguientes datos corresponden al cálculo numérico de una cierta propiedad estadística de la distribución de materia en el universo (el espectro de potencias)  𝑃(𝑘)  en función del modo de Fourier  𝑘 . Use la derivada numérica para encontrar  𝑑ln𝑃/𝑑ln𝑘 en cada punto. Para estimar el error cometido en esta derivada numérica compare el resultado de la fórmula a tres puntos con el resultado de la fórmula a cinco puntos. Será necesario usar las fórmulas a tres y cinco puntos en los extremos que se encuentran en este mismo notebook."
   ]
  },
  {
   "cell_type": "code",
   "execution_count": 25,
   "metadata": {},
   "outputs": [],
   "source": [
    "import numpy as np\n",
    "import matplotlib.pyplot as plt\n",
    "datos = np.array([       [5.531683013105e-04,       1.070304113861e+12], \n",
    "       [5.910227121702e-04,       1.139622191891e+12], \n",
    "       [6.315688849627e-04,       1.213481232452e+12], \n",
    "       [6.750065137883e-04,       1.292169597309e+12], \n",
    "       [7.215301959429e-04,       1.375954296780e+12], \n",
    "       [7.713235180257e-04,       1.465069697719e+12], \n",
    "       [8.245525173319e-04,       1.559705507566e+12], \n",
    "       [8.813589235833e-04,       1.659994890361e+12], \n",
    "       [9.418537183337e-04,       1.766003776663e+12], \n",
    "       [1.006111625261e-03,       1.877722471320e+12], \n",
    "       [1.074167130425e-03,       1.995060685935e+12], \n",
    "       [1.146012510269e-03,       2.117846703996e+12], \n",
    "       [1.221598126720e-03,       2.245831037960e+12], \n",
    "       [1.300834972303e-03,       2.378694410099e+12], \n",
    "       [1.383599172303e-03,       2.516052095865e+12], \n",
    "       [1.469737934874e-03,       2.657475892684e+12], \n",
    "       [1.559076324033e-03,       2.802524407596e+12], \n",
    "       [1.651424225675e-03,       2.950729179407e+12], \n",
    "       [1.746582964833e-03,       3.101618970269e+12], \n",
    "       [1.844351177716e-03,       3.254730780491e+12], \n",
    "       [1.944529704896e-03,       3.409618695392e+12], \n",
    "       [2.046925420592e-03,       3.565860320889e+12], \n",
    "       [2.151354028418e-03,       3.723061333248e+12], \n",
    "       [2.257641930146e-03,       3.880858018481e+12] ])"
   ]
  },
  {
   "cell_type": "markdown",
   "metadata": {},
   "source": [
    "Queremos encontrar en cada punto dado  $$\\frac{d(ln(P))} {d(ln(K))} = \\frac{K}{P} \\frac{dP}{dK}$$ "
   ]
  },
  {
   "cell_type": "markdown",
   "metadata": {},
   "source": [
    "Tenemos nuestros datos pares, los separamos por columnas para obtenerlos por separado"
   ]
  },
  {
   "cell_type": "code",
   "execution_count": 2,
   "metadata": {},
   "outputs": [],
   "source": [
    "P_1 = datos[:,[0]]\n",
    "K_1 = datos[:,[1]]\n",
    "P = np.transpose(P_1, (1, 0))\n",
    "K = np.transpose(K_1, (1, 0))"
   ]
  },
  {
   "cell_type": "code",
   "execution_count": 3,
   "metadata": {},
   "outputs": [],
   "source": [
    "#defino mis derivadas con respecto a los puntos a tomar\n",
    "def deriv3_datos(fxo, fx2, h):\n",
    "    return (fx2 - fxo)/(2*h)\n",
    "\n",
    "def deriv3_borde_datos(fxo, fx1, fx2, h):\n",
    "    return (-3*fxo + 4*fx1 - fx2)/(2*h)\n",
    "\n",
    "def deriv_datos(fx, h):\n",
    "    \n",
    "    n = len(fx)\n",
    "    deriv = np.zeros(n)\n",
    "    for i in range(n):\n",
    "        if i == 0:\n",
    "            deriv[i] = deriv3_borde_datos(fx[0], fx[1], fx[2], h)\n",
    "        elif i == n - 1:\n",
    "            deriv[i] = deriv3_borde_datos(fx[n-1], fx[n-2], fx[n-3], -h)\n",
    "        else:\n",
    "            deriv[i] = deriv3_datos(fx[i-1], fx[i+1], h)\n",
    "    return deriv"
   ]
  },
  {
   "cell_type": "code",
   "execution_count": 14,
   "metadata": {},
   "outputs": [],
   "source": [
    "def deriv5p(fxo, fx1, fx3, fx4, h):\n",
    "    return (fxo - 8*fx1 + 8*fx3 - fx4)/(12*h)\n",
    "\n",
    "def deriv5p_extremo(fxo, fx1, fx2, fx3, fx4, h):\n",
    "    return (-25*fxo + 48*fx1 - 36*fx2 + 16*fx3 - 3*fx4)/(12*h)\n",
    "\n",
    "def deriv_5_datos(fx, h):\n",
    "    \n",
    "    n = len(fx)\n",
    "    deriv = np.zeros(n)\n",
    "    for i in range(n):\n",
    "        if i < 1 :\n",
    "            deriv[i] = deriv5p_extremo(fx[0], fx[1], fx[2], fx[3], fx[4], h)\n",
    "        elif i > n - 3:\n",
    "            deriv[i] = deriv5p_extremo(fx[n-3], fx[n-4], fx[n-5], fx[n-6], fx[n-7], -h)\n",
    "        else:\n",
    "            deriv[i] = deriv5p(fx[i-2], fx[i-1], fx[i+1], fx[i+2], h)\n",
    "    return deriv"
   ]
  },
  {
   "cell_type": "code",
   "execution_count": 77,
   "metadata": {},
   "outputs": [],
   "source": [
    "w = 1000\n",
    "deriv3puntosP = deriv_datos(P_1, w)\n",
    "deriv3puntosK = deriv_datos(K_1, w)"
   ]
  },
  {
   "cell_type": "code",
   "execution_count": 78,
   "metadata": {},
   "outputs": [
    {
     "data": {
      "text/plain": [
       "array([3.65763688e-08, 1.84153340e-07, 4.19590432e-08, 4.49491402e-08,\n",
       "       4.81293668e-08, 5.14855134e-08, 5.49966435e-08, 5.86351251e-08,\n",
       "       6.23672500e-08, 6.61544758e-08, 6.99552226e-08, 7.37270519e-08,\n",
       "       7.74289712e-08, 8.10235783e-08, 8.44787919e-08, 8.77689967e-08,\n",
       "       9.08755445e-08, 9.37866570e-08, 9.64968530e-08, 9.90060605e-08,\n",
       "       1.01318573e-07, 1.03441986e-07, 1.03441443e-07, 1.03441443e-07])"
      ]
     },
     "execution_count": 78,
     "metadata": {},
     "output_type": "execute_result"
    }
   ],
   "source": [
    "deriv5puntosP = deriv_5_datos(P_1, w)\n",
    "deriv5puntosK = deriv_5_datos(K_1, w)\n",
    "deriv5puntosP"
   ]
  },
  {
   "cell_type": "code",
   "execution_count": 79,
   "metadata": {},
   "outputs": [],
   "source": [
    "puntos3 = (K/P)*(deriv3puntosP/deriv3puntosK)"
   ]
  },
  {
   "cell_type": "code",
   "execution_count": 80,
   "metadata": {},
   "outputs": [],
   "source": [
    "puntos5 = (K/P)*(deriv5puntosP/deriv5puntosK)"
   ]
  },
  {
   "cell_type": "code",
   "execution_count": 81,
   "metadata": {},
   "outputs": [],
   "source": [
    "t_3p = np.transpose(puntos3, (1, 0))\n",
    "t_5p = np.transpose(puntos5, (1, 0))"
   ]
  },
  {
   "cell_type": "code",
   "execution_count": 82,
   "metadata": {},
   "outputs": [
    {
     "data": {
      "text/plain": [
       "<matplotlib.legend.Legend at 0x26831073a30>"
      ]
     },
     "execution_count": 82,
     "metadata": {},
     "output_type": "execute_result"
    },
    {
     "data": {
      "image/png": "[encoded data removed]",
      "text/plain": [
       "<Figure size 432x288 with 1 Axes>"
      ]
     },
     "metadata": {
      "needs_background": "light"
     },
     "output_type": "display_data"
    }
   ],
   "source": [
    "plt.plot(t_3p - P_1, label='deriv_3')\n",
    "plt.plot(t_5p - P_1, label = 'deriv_5')\n",
    "plt.legend()"
   ]
  },
  {
   "cell_type": "code",
   "execution_count": 83,
   "metadata": {},
   "outputs": [
    {
     "name": "stdout",
     "output_type": "stream",
     "text": [
      "Array de valores con 3 puntos: [[1.05356428]\n",
      " [1.05585044]\n",
      " [1.05779873]\n",
      " [1.05995141]\n",
      " [1.06232455]\n",
      " [1.06493435]\n",
      " [1.06779716]\n",
      " [1.07092935]\n",
      " [1.07434727]\n",
      " [1.07806689]\n",
      " [1.08210331]\n",
      " [1.08647009]\n",
      " [1.09117817]\n",
      " [1.09626381]\n",
      " [1.10174904]\n",
      " [1.10756023]\n",
      " [1.11368225]\n",
      " [1.12015684]\n",
      " [1.12698012]\n",
      " [1.13414734]\n",
      " [1.14165323]\n",
      " [1.14949172]\n",
      " [1.1576559 ]\n",
      " [1.16579381]]\n",
      "Array de valores con 5 puntos [[1.05392715]\n",
      " [1.14111918]\n",
      " [1.05761276]\n",
      " [1.05975382]\n",
      " [1.06211604]\n",
      " [1.06471592]\n",
      " [1.06757017]\n",
      " [1.07069542]\n",
      " [1.07410831]\n",
      " [1.07782507]\n",
      " [1.08186097]\n",
      " [1.08622977]\n",
      " [1.09093751]\n",
      " [1.0960263 ]\n",
      " [1.10153267]\n",
      " [1.10735807]\n",
      " [1.11348477]\n",
      " [1.1199721 ]\n",
      " [1.12680857]\n",
      " [1.13398912]\n",
      " [1.14150832]\n",
      " [1.14935996]\n",
      " [1.14177978]\n",
      " [1.13414017]]\n"
     ]
    }
   ],
   "source": [
    "print('Array de valores con 3 puntos:',t_3p)\n",
    "print('Array de valores con 5 puntos',t_5p)"
   ]
  },
  {
   "cell_type": "markdown",
   "metadata": {},
   "source": [
    "Notamos que los puntos se comportan de igual manera en los valores medios, pero en los extremos existe una variacion mayor. Podemos explicar esta variacion como puntos muy alejados del punto a evaluar, ya que en los extremos tomamos valores que se van alejando en solo una direccion por lo que la variacion puede ser mayor.\n",
    "\n",
    "Otra razón por la cual puede existir esa oscilación en los extremos es por el error experimental ya que existe una gran variación entre el valor del índice [0] con respecto al índice [1], para despues seguir con [2] similar a [1]. (O quizá por una tendencia a la distribución de la materia en un punto).\n"
   ]
  },
  {
   "cell_type": "markdown",
   "metadata": {},
   "source": [
    "# Calificación: 6.9"
   ]
  },
  {
   "cell_type": "markdown",
   "metadata": {},
   "source": [
    "Faltó calcular errores relativos para poder comparar."
   ]
  }
 ],
 "metadata": {
  "kernelspec": {
   "display_name": "Python 3",
   "language": "python",
   "name": "python3"
  },
  "language_info": {
   "codemirror_mode": {
    "name": "ipython",
    "version": 3
   },
   "file_extension": ".py",
   "mimetype": "text/x-python",
   "name": "python",
   "nbconvert_exporter": "python",
   "pygments_lexer": "ipython3",
   "version": "3.8.5"
  }
 },
 "nbformat": 4,
 "nbformat_minor": 4
}
