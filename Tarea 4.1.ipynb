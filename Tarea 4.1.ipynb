{
 "cells": [
  {
   "cell_type": "code",
   "execution_count": 4,
   "metadata": {},
   "outputs": [
    {
     "data": {
      "image/png": "[encoded data removed]",
      "text/plain": [
       "<Figure size 432x288 with 1 Axes>"
      ]
     },
     "metadata": {
      "needs_background": "light"
     },
     "output_type": "display_data"
    },
    {
     "data": {
      "text/plain": [
       "array([  3.14159265,   3.73875489,   4.38784428,   5.08886083,\n",
       "         5.84180452,   6.64667537,   7.50347336,   8.41219851,\n",
       "         9.37285081,  10.38543026,  11.44993686,  12.56637061,\n",
       "        13.73473152,  14.95501957,  16.22723478,  17.55137714,\n",
       "        18.92744665,  20.35544331,  21.83536712,  23.36721808,\n",
       "        24.9509962 ,  26.58670147,  28.27433388,  30.01389345,\n",
       "        31.80538017,  33.64879404,  35.54413506,  37.49140324,\n",
       "        39.49059856,  41.54172104,  43.64477067,  45.79974745,\n",
       "        48.00665138,  50.26548246,  52.57624069,  54.93892607,\n",
       "        57.35353861,  59.8200783 ,  62.33854513,  64.90893912,\n",
       "        67.53126026,  70.20550856,  72.931684  ,  75.70978659,\n",
       "        78.53981634,  81.42177324,  84.35565729,  87.34146848,\n",
       "        90.37920684,  93.46887234,  96.61046499,  99.8039848 ,\n",
       "       103.04943175, 106.34680586, 109.69610712, 113.09733553,\n",
       "       116.55049109, 120.0555738 , 123.61258367, 127.22152068,\n",
       "       130.88238485, 134.59517617, 138.35989464, 142.17654026,\n",
       "       146.04511303, 149.96561295, 153.93804003, 157.96239425,\n",
       "       162.03867563, 166.16688416, 170.34701984, 174.57908267,\n",
       "       178.86307265, 183.19898978, 187.58683407, 192.0266055 ,\n",
       "       196.51830409, 201.06192983, 205.65748272, 210.30496276,\n",
       "       215.00436995, 219.7557043 , 224.55896579, 229.41415444,\n",
       "       234.32127024, 239.28031319, 244.29128329, 249.35418054,\n",
       "       254.46900494, 259.6357565 , 264.8544352 , 270.12504106,\n",
       "       275.44757407, 280.82203423, 286.24842154, 291.726736  ,\n",
       "       297.25697761, 302.83914638, 308.47324229, 314.15926536])"
      ]
     },
     "execution_count": 4,
     "metadata": {},
     "output_type": "execute_result"
    }
   ],
   "source": [
    "import numpy as np\n",
    "import matplotlib.pyplot as plt\n",
    "\n",
    "r = np.linspace(1, 10, 100) #definimos 100 elementos de r que esten entre 1 y 10 \n",
    "\n",
    "def Area(): #definimos una funcion que tomando los valores de r previamente definidos pueda calcular el area\n",
    "            # y retornar un array con todas las areas.\n",
    "    f = np.pi*r**2\n",
    "    return f\n",
    "\n",
    "plt.plot(r, Area(), label = 'Area(r)') #ploteamos el grafico, r siendo la variable independiente y Area() la dependiente del radio.\n",
    "plt.legend()\n",
    "plt.show()\n",
    "Area()"
   ]
  },
  {
   "cell_type": "code",
   "execution_count": null,
   "metadata": {},
   "outputs": [],
   "source": []
  }
 ],
 "metadata": {
  "kernelspec": {
   "display_name": "Python 3",
   "language": "python",
   "name": "python3"
  },
  "language_info": {
   "codemirror_mode": {
    "name": "ipython",
    "version": 3
   },
   "file_extension": ".py",
   "mimetype": "text/x-python",
   "name": "python",
   "nbconvert_exporter": "python",
   "pygments_lexer": "ipython3",
   "version": "3.8.3"
  }
 },
 "nbformat": 4,
 "nbformat_minor": 4
}
