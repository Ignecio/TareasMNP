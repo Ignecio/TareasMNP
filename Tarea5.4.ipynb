{
 "cells": [
  {
   "cell_type": "markdown",
   "metadata": {},
   "source": [
    "## Tarea 5.4 ##"
   ]
  },
  {
   "cell_type": "markdown",
   "metadata": {},
   "source": [
    "Ejercicio sacado de \"Basic Probability Theory\", R. B. Ash, Dover, 1970.\n",
    "\n",
    "En una cierta población, el  20%  de las personas tiene una enfermedad. Se hace un examen a los miembros de la población que tiene la característica de dar positivo el  90%  de las veces si la persona tiene la enfermedad y el  30%  de las veces si la persona no tiene la enfermedad (falso positivo). A los que dan positivo se les suministra una droga que puede causar manchas rojas en la piel en un  20%  de los pacientes.\n",
    "\n",
    "Si una persona tiene esas manchas rojas. ¿Cuál es la probabilidad de que haya tenido la enfermedad?\n"
   ]
  },
  {
   "cell_type": "markdown",
   "metadata": {},
   "source": [
    "$P(A) = 0.2 \\,\\\n",
    "\\,\\ P(B) = 0.8 \\,\\\n",
    "\\,\\ P(D|A) = 0.9 \\,\\\n",
    "\\, \\ P(D|B) = 0.3 \\,\\\n",
    "$"
   ]
  },
  {
   "cell_type": "markdown",
   "metadata": {},
   "source": [
    "A los positivos se les suministra una droga, al 20% les salen manchas rojas.\n",
    "\n",
    "$ P(MR|D) = 0.2$"
   ]
  },
  {
   "cell_type": "markdown",
   "metadata": {},
   "source": [
    "$$\n",
    "P(D) = P(DA) + P(DB)\n",
    "$$\n",
    "\n",
    "$$\n",
    "P(D) = P(D|A)P(A) + P(D|B)P(B)\n",
    "$$\n"
   ]
  },
  {
   "cell_type": "code",
   "execution_count": 5,
   "metadata": {},
   "outputs": [],
   "source": [
    "Prob_A = 0.2\n",
    "Prob_B = 0.8\n",
    "Prob_DiA = 0.9\n",
    "Prob_DiB = 0.3\n",
    "Prob_MRiD = 0.2"
   ]
  },
  {
   "cell_type": "code",
   "execution_count": 9,
   "metadata": {},
   "outputs": [],
   "source": [
    "Prob_D = Prob_DiA*Prob_A + Prob_DiB*Prob_B # total de personas que se les suministro droga."
   ]
  },
  {
   "cell_type": "code",
   "execution_count": 8,
   "metadata": {},
   "outputs": [],
   "source": [
    "prob_D_AMR = Prob_DiA*Prob_A*Prob_MRiD #evento, cantidad de enfermos detectados que se \n",
    "                                       #les suministro droga y les salieron manchas rojas."
   ]
  },
  {
   "cell_type": "code",
   "execution_count": 11,
   "metadata": {},
   "outputs": [],
   "source": [
    "prob_D_MR = (Prob_D)*Prob_MRiD #personas a las que les salio manchas rojas dado que se le suministro la droga."
   ]
  },
  {
   "cell_type": "markdown",
   "metadata": {},
   "source": [
    "Se nos pregunta por la probabilidad de que una persona este enferma dado que tuvo manchas rojas.\n",
    "\n",
    "Entonces, el total de nuestro espacio son las personas con manchas rojas, el evento son las personas enfermas y con manchas rojas."
   ]
  },
  {
   "cell_type": "code",
   "execution_count": 13,
   "metadata": {},
   "outputs": [],
   "source": [
    "prob = prob_D_AMR/prob_D_MR"
   ]
  },
  {
   "cell_type": "code",
   "execution_count": 14,
   "metadata": {},
   "outputs": [
    {
     "data": {
      "text/plain": [
       "0.42857142857142855"
      ]
     },
     "execution_count": 14,
     "metadata": {},
     "output_type": "execute_result"
    }
   ],
   "source": [
    "prob"
   ]
  },
  {
   "cell_type": "markdown",
   "metadata": {},
   "source": [
    "Otra forma de hacerlo es generar un conjunto de las personas a las que se les suministro una droga. Aqui existe una\n",
    "probabilidad de que sea sano $p$ y que sea enfermo $(p - 1)$. Pensando que tanto la poblacion de enfermos y la poblacion de sanos tienen la probabilidad de $0.2$ que les salgan manchas rojas.\n",
    "\n",
    "Si lo vemos matematicamente:\n",
    "\n",
    "$$\n",
    "\\frac{0.2\\times 0.9 \\times 0.2}{( 0.2 \\times 0.9 \\times 0.2) + ( 0.8 \\times 0.3 \\times 0.2) }\n",
    "$$\n",
    "\n",
    "$$\n",
    "\\frac{0.2 \\times 0.9\\times 0.2}{0.2 \\times(0.18 + 0.24)}\n",
    "$$\n",
    "\n",
    "puedo simplificar los $0.2$ y me quedaria $$ \\frac{P(DA)}{P(D)} $$ \n",
    "\n",
    "Probabilidad de que alguien este enfermo y lo haya detectado el test $P(DA)$ entre las personas que se les suministra la droga $P(D)$"
   ]
  },
  {
   "cell_type": "code",
   "execution_count": 15,
   "metadata": {},
   "outputs": [],
   "source": [
    "poblacion = { 'Sanos': 24000, 'Enfermos': 18000 } \n",
    "\n",
    "def prob(condicion, poblacion):\n",
    "    \n",
    "    conjunto = {e for e in poblacion if condicion(e)}\n",
    "    total = sum([poblacion[e] for e in poblacion])\n",
    "    frec = sum(poblacion[e] for e in conjunto)\n",
    "    return frec/total"
   ]
  },
  {
   "cell_type": "code",
   "execution_count": 16,
   "metadata": {},
   "outputs": [
    {
     "data": {
      "text/plain": [
       "0.42857142857142855"
      ]
     },
     "execution_count": 16,
     "metadata": {},
     "output_type": "execute_result"
    }
   ],
   "source": [
    "def enfermo(e):\n",
    "    return e[0] == 'E'\n",
    "prob(enfermo, poblacion)"
   ]
  },
  {
   "cell_type": "code",
   "execution_count": 17,
   "metadata": {},
   "outputs": [
    {
     "data": {
      "text/plain": [
       "0.4285714285714286"
      ]
     },
     "execution_count": 17,
     "metadata": {},
     "output_type": "execute_result"
    }
   ],
   "source": [
    "Prob_DiA*Prob_A/Prob_D"
   ]
  },
  {
   "cell_type": "markdown",
   "metadata": {},
   "source": [
    "Comparten resultados, pero esto es solo porque personas sanas y personas enfermas comparten las mismas probabilidades de que salgan manchas rojas entonces es como si seleccionara el 20% de enfermos para que le salgan manchas rojas y lo mismo con los sanos.\n",
    "\n",
    "Entonces, aquí quise simular el caso de una urna pero en este caso en una poblacion de $42000$ (cantidad de personas que se les suministro la droga). selecciono el $20$% de esta poblacion ($8400$ personas) de manera aleatoria para asi tener distintos casos hipoteticos donde $x$ de enfermos tienen manchas rojas y $y$ de sanos tienen manchas rojas."
   ]
  },
  {
   "cell_type": "code",
   "execution_count": 18,
   "metadata": {},
   "outputs": [],
   "source": [
    "def unir(estado, numero):\n",
    "    return {estado + str(n + 1) for n in range(numero)}\n",
    "\n",
    "suminis = list(unir('E', 18000) | unir('S', 24000))\n",
    "\n",
    "def enfermo(e):\n",
    "    return e[0] == 'E'\n",
    "\n",
    "import random\n",
    "muestra = {tuple(random.choices(suminis, k = 8400)) for i in range(1000)}\n",
    "# 1000 casos donde de manera aleatoria le salieron manchas rojas a las personas"
   ]
  },
  {
   "cell_type": "markdown",
   "metadata": {},
   "source": [
    "Mi idea aqui era contabilizar en cada uno de los casos la cantidad de enfermos y cantidad de sanos, donde iba a obtener distintas probabilidades pero la probabilidad que mas se repitiera era la \"tendencia\". esto no supe como hacerlo. :("
   ]
  },
  {
   "cell_type": "code",
   "execution_count": null,
   "metadata": {},
   "outputs": [],
   "source": []
  }
 ],
 "metadata": {
  "kernelspec": {
   "display_name": "Python 3",
   "language": "python",
   "name": "python3"
  },
  "language_info": {
   "codemirror_mode": {
    "name": "ipython",
    "version": 3
   },
   "file_extension": ".py",
   "mimetype": "text/x-python",
   "name": "python",
   "nbconvert_exporter": "python",
   "pygments_lexer": "ipython3",
   "version": "3.8.3"
  }
 },
 "nbformat": 4,
 "nbformat_minor": 4
}
