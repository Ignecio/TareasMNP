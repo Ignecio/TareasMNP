{
 "cells": [
  {
   "cell_type": "markdown",
   "metadata": {},
   "source": [
    "## Tarea 7.9 ##\n",
    "\n",
    "Use un polinomio interpolante para aproximar la integral de una gaussiana con $\\sigma = 1$ y $\\mu = 0$, entre $x = 0$ y $x = 1$. Compare con el resultado obtenido a partir de\n",
    "\n",
    "$$\n",
    "\\int_0^a dx\\,e^{-x^2} = \\frac{\\sqrt{\\pi}}{2}\\text{erf}(a)\n",
    "$$\n",
    "\n",
    "donde $\\text{erf}(a)$ es la función de error y en python se puede llamar usando scipy.special.erf del modulo scipy."
   ]
  },
  {
   "cell_type": "markdown",
   "metadata": {},
   "source": [
    "La función Gaussiana esta dada por\n",
    "$$\n",
    "\\rho(x) = \\frac{1}{\\sqrt{2\\pi}\\sigma} e^{-\\frac{(x - \\mu)^2}{2\\sigma^2}}\n",
    "$$\n",
    "\n",
    "Dado los valores del problema donde $\\sigma = 1 $ y $\\mu = 0$ entre los rangos $x \\in [0,1]$\n",
    "entonces,\n",
    "\n",
    "$$\n",
    "\\rho(x) = \\frac{1}{\\sqrt{2\\pi}} e^{-\\frac{(x)^2}{2}}\n",
    "$$\n",
    "\n",
    "Por lo tanto, lo que se nos pide es la aproximación a la integral de $\\int\\rho(x)dx$ entre los intervalos $x \\in [0, 1]$"
   ]
  },
  {
   "cell_type": "code",
   "execution_count": 4,
   "metadata": {},
   "outputs": [],
   "source": [
    "import numpy as np\n",
    "import matplotlib.pyplot as plt\n",
    "from scipy import integrate\n",
    "\n",
    "def gauss(x, mu, sigma): #función gaussiana para cualquier valor de sigma y mu\n",
    "    \n",
    "    return np.exp(-(x - mu)**2/(2*sigma**2))/(np.sqrt(2*np.pi)*sigma)\n"
   ]
  },
  {
   "cell_type": "code",
   "execution_count": 5,
   "metadata": {},
   "outputs": [],
   "source": [
    "def gaussiana(x): #simplificamos la función ya que los valores de varianza y el centro de la campana tienen valores\n",
    "                  #fijos, sigma = 1 y mu = 0\n",
    "    return np.exp(-(x)**2/(2))/np.sqrt(2*np.pi)                                                                                        "
   ]
  },
  {
   "cell_type": "code",
   "execution_count": 6,
   "metadata": {
    "scrolled": true
   },
   "outputs": [
    {
     "data": {
      "image/png": "[encoded data removed]",
      "text/plain": [
       "<Figure size 432x288 with 1 Axes>"
      ]
     },
     "metadata": {
      "needs_background": "light"
     },
     "output_type": "display_data"
    }
   ],
   "source": [
    "x = np.linspace(0, 1, 100)\n",
    "\n",
    "plt.plot(x, gaussiana(x), color = 'cyan')\n",
    "plt.show()"
   ]
  },
  {
   "cell_type": "markdown",
   "metadata": {},
   "source": [
    "Ya sabiendo la forma de la función Gaussiana, buscamos un polinomio interpolante acorde a esta función. Para esto ocuparemos el polinomio de Lagrange visto en clases. Este polinomio está dado por:\n",
    "\n",
    "$$\n",
    "P(x) = \\sum_{i = 0}^n f(x_i) L_{n,i}(x)\\,,\n",
    "$$\n"
   ]
  },
  {
   "cell_type": "code",
   "execution_count": 7,
   "metadata": {},
   "outputs": [],
   "source": [
    "def lagrange(x, puntos):\n",
    "    \n",
    "    Lis = np.ones(len(puntos)) # polinomios\n",
    "    fs = np.ones(len(puntos)) #funcion\n",
    "    for i in range(len(puntos)): # llenar los espacios creados con ciclo for\n",
    "        fs[i] = puntos[i][1]\n",
    "        for j in range(len(puntos)):\n",
    "            if j != i:\n",
    "                xj = puntos[j][0]\n",
    "                xi = puntos[i][0]\n",
    "                Lis[i] *= (x - xj)/(xi - xj)\n",
    "    \n",
    "    return sum(fs*Lis)"
   ]
  },
  {
   "cell_type": "markdown",
   "metadata": {},
   "source": [
    "Agregamos los puntos que son faciles de ver en la función de Gauss dada."
   ]
  },
  {
   "cell_type": "code",
   "execution_count": 8,
   "metadata": {},
   "outputs": [
    {
     "data": {
      "text/plain": [
       "0.35"
      ]
     },
     "execution_count": 8,
     "metadata": {},
     "output_type": "execute_result"
    }
   ],
   "source": [
    "puntos1 = ([0, 0.4], [0.5, 0.35], [0.7, 0.31], [0.9, 0.266])\n",
    "lagrange(1/2, puntos1)"
   ]
  },
  {
   "cell_type": "code",
   "execution_count": 9,
   "metadata": {
    "scrolled": true
   },
   "outputs": [
    {
     "data": {
      "text/plain": [
       "<matplotlib.legend.Legend at 0x204c2693760>"
      ]
     },
     "execution_count": 9,
     "metadata": {},
     "output_type": "execute_result"
    },
    {
     "data": {
      "image/png": "[encoded data removed]",
      "text/plain": [
       "<Figure size 432x288 with 1 Axes>"
      ]
     },
     "metadata": {
      "needs_background": "light"
     },
     "output_type": "display_data"
    }
   ],
   "source": [
    "plt.plot(x, gaussiana(x), color = 'cyan', label = 'Gaussiana')\n",
    "plt.plot(x, [lagrange(xi, puntos1) for xi in x], color = 'black', linestyle=':', label = 'interpolacion')\n",
    "plt.legend()"
   ]
  },
  {
   "cell_type": "markdown",
   "metadata": {},
   "source": [
    "Nuestro polinomio interpolante se acerca a la representación de la función de gauss. Ahora calculamos la integral del polinomio interpolado que encontramos para aproximarnos a la integral de la función Gaussiana."
   ]
  },
  {
   "cell_type": "code",
   "execution_count": 10,
   "metadata": {},
   "outputs": [],
   "source": [
    "from scipy import integrate\n",
    "from scipy import special"
   ]
  },
  {
   "cell_type": "markdown",
   "metadata": {},
   "source": [
    "Calcular los coeficientes que acompañan al polinomio e integrar el polinomio."
   ]
  },
  {
   "cell_type": "code",
   "execution_count": 11,
   "metadata": {},
   "outputs": [],
   "source": [
    "def difer(puntos):\n",
    "    \n",
    "    n = len(puntos) - 1\n",
    "    Fs = [np.zeros(n + 1)]\n",
    "    for i in range(n + 1):\n",
    "        Fs[0][i] = puntos[i][1]\n",
    "    for i in range(1, n + 1):\n",
    "        Fs.append(np.zeros(n + 1 - i))\n",
    "        for j in range(1, i + 1):\n",
    "            Fs[j][i-j] = (Fs[j-1][i-j+1] - Fs[j-1][i-j])/(puntos[i][0] - puntos[i-j][0])\n",
    "    \n",
    "    return [Fs[i][0] for i in range(n + 1)]"
   ]
  },
  {
   "cell_type": "code",
   "execution_count": 20,
   "metadata": {},
   "outputs": [],
   "source": [
    "puntos = np.array([(0, 0.4), (0.5, 0.35), (0.7, 0.31), (0.9, 0.27)])\n",
    "coef = difer(puntos)"
   ]
  },
  {
   "cell_type": "code",
   "execution_count": 21,
   "metadata": {},
   "outputs": [],
   "source": [
    "def poly(x, coefs):\n",
    "        \n",
    "    return sum(coef[n]*np.prod([(x - puntos[i,0]) for i in range(n)]) for n in range(len(coefs)))"
   ]
  },
  {
   "cell_type": "code",
   "execution_count": 22,
   "metadata": {},
   "outputs": [
    {
     "data": {
      "text/plain": [
       "[<matplotlib.lines.Line2D at 0x204c27d4ca0>]"
      ]
     },
     "execution_count": 22,
     "metadata": {},
     "output_type": "execute_result"
    },
    {
     "data": {
      "image/png": "[encoded data removed]",
      "text/plain": [
       "<Figure size 432x288 with 1 Axes>"
      ]
     },
     "metadata": {
      "needs_background": "light"
     },
     "output_type": "display_data"
    }
   ],
   "source": [
    "plt.plot(x, [poly(xi, coef) for xi in x])"
   ]
  },
  {
   "cell_type": "code",
   "execution_count": 23,
   "metadata": {},
   "outputs": [
    {
     "data": {
      "text/plain": [
       "<matplotlib.collections.PathCollection at 0x204c280f880>"
      ]
     },
     "execution_count": 23,
     "metadata": {},
     "output_type": "execute_result"
    },
    {
     "data": {
      "image/png": "[encoded data removed]",
      "text/plain": [
       "<Figure size 432x288 with 1 Axes>"
      ]
     },
     "metadata": {
      "needs_background": "light"
     },
     "output_type": "display_data"
    }
   ],
   "source": [
    "x = np.linspace(0, 2, 100)\n",
    "\n",
    "plt.plot(x, [poly(xi, coef) for xi in x])\n",
    "plt.scatter(puntos[:,0], puntos[:,1], color='red')"
   ]
  },
  {
   "cell_type": "markdown",
   "metadata": {},
   "source": [
    "Lo que necesito es integrar mi funcion poly entre 0 y 1"
   ]
  },
  {
   "cell_type": "code",
   "execution_count": 16,
   "metadata": {},
   "outputs": [
    {
     "data": {
      "text/plain": [
       "(0.34206349206349207, 3.797667647725734e-15)"
      ]
     },
     "execution_count": 16,
     "metadata": {},
     "output_type": "execute_result"
    }
   ],
   "source": [
    "integrate.quad(lambda x: poly(x, coef),0 , 1)"
   ]
  },
  {
   "cell_type": "code",
   "execution_count": null,
   "metadata": {},
   "outputs": [],
   "source": []
  }
 ],
 "metadata": {
  "kernelspec": {
   "display_name": "Python 3",
   "language": "python",
   "name": "python3"
  },
  "language_info": {
   "codemirror_mode": {
    "name": "ipython",
    "version": 3
   },
   "file_extension": ".py",
   "mimetype": "text/x-python",
   "name": "python",
   "nbconvert_exporter": "python",
   "pygments_lexer": "ipython3",
   "version": "3.8.5"
  }
 },
 "nbformat": 4,
 "nbformat_minor": 4
}
