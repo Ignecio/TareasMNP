{
 "cells": [
  {
   "cell_type": "markdown",
   "metadata": {},
   "source": [
    "## Tarea 7.9 ##\n",
    "\n",
    "Use un polinomio interpolante para aproximar la integral de una gaussiana con $\\sigma = 1$ y $\\mu = 0$, entre $x = 0$ y $x = 1$. Compare con el resultado obtenido a partir de\n",
    "\n",
    "$$\n",
    "\\int_0^a dx\\,e^{-x^2} = \\frac{\\sqrt{\\pi}}{2}\\text{erf}(a)\n",
    "$$\n",
    "\n",
    "donde $\\text{erf}(a)$ es la función de error y en python se puede llamar usando scipy.special.erf del modulo scipy."
   ]
  },
  {
   "cell_type": "markdown",
   "metadata": {},
   "source": [
    "La función Gaussiana esta dada por\n",
    "$$\n",
    "\\rho(x) = \\frac{1}{\\sqrt{2\\pi}\\sigma} e^{-\\frac{(x - \\mu)^2}{2\\sigma^2}}\n",
    "$$\n",
    "\n",
    "Dado los valores del problema donde $\\sigma = 1 $ y $\\mu = 0$ entre los rangos $x \\in [0,1]$\n",
    "entonces,\n",
    "\n",
    "$$\n",
    "\\rho(x) = \\frac{1}{\\sqrt{2\\pi}} e^{-\\frac{(x)^2}{2}}\n",
    "$$\n",
    "\n",
    "Por lo tanto, lo que se nos pide es la aproximación a la integral de $\\int\\rho(x)dx$ entre los intervalos $x \\in [0, 1]$"
   ]
  },
  {
   "cell_type": "code",
   "execution_count": 1,
   "metadata": {},
   "outputs": [],
   "source": [
    "import numpy as np\n",
    "import matplotlib.pyplot as plt\n",
    "from scipy import integrate\n",
    "\n",
    "def gauss(x, mu, sigma): #función gaussiana para cualquier valor de sigma y mu\n",
    "    \n",
    "    return np.exp(-(x - mu)**2/(2*sigma**2))/(np.sqrt(2*np.pi)*sigma)\n"
   ]
  },
  {
   "cell_type": "code",
   "execution_count": 2,
   "metadata": {},
   "outputs": [],
   "source": [
    "def gaussiana(x): #simplificamos la función ya que los valores de varianza y el centro de la campana tienen valores\n",
    "                  #fijos, sigma = 1 y mu = 0\n",
    "    return np.exp(-(x)**2/(2))/np.sqrt(2*np.pi)                                                                                        "
   ]
  },
  {
   "cell_type": "code",
   "execution_count": 7,
   "metadata": {},
   "outputs": [
    {
     "data": {
      "text/plain": [
       "(0.341344746068543, 3.789687964201238e-15)"
      ]
     },
     "execution_count": 7,
     "metadata": {},
     "output_type": "execute_result"
    }
   ],
   "source": [
    "integrate.quad(gaussiana, 0, 1)"
   ]
  },
  {
   "cell_type": "code",
   "execution_count": 8,
   "metadata": {
    "scrolled": true
   },
   "outputs": [
    {
     "data": {
      "image/png": "[encoded data removed]",
      "text/plain": [
       "<Figure size 432x288 with 1 Axes>"
      ]
     },
     "metadata": {
      "needs_background": "light"
     },
     "output_type": "display_data"
    }
   ],
   "source": [
    "x = np.linspace(0, 1, 100)\n",
    "\n",
    "plt.plot(x, gaussiana(x), color = 'cyan')\n",
    "plt.show()"
   ]
  },
  {
   "cell_type": "markdown",
   "metadata": {},
   "source": [
    "Ya sabiendo la forma de la función Gaussiana, buscamos un polinomio interpolante acorde a esta función. Para esto ocuparemos el polinomio de Lagrange visto en clases. Este polinomio está dado por:\n",
    "\n",
    "$$\n",
    "P(x) = \\sum_{i = 0}^n f(x_i) L_{n,i}(x)\\,,\n",
    "$$\n"
   ]
  },
  {
   "cell_type": "code",
   "execution_count": 9,
   "metadata": {},
   "outputs": [],
   "source": [
    "def lagrange(x, puntos):\n",
    "    \n",
    "    Lis = np.ones(len(puntos)) # polinomios\n",
    "    fs = np.ones(len(puntos)) #funcion\n",
    "    for i in range(len(puntos)): # llenar los espacios creados con ciclo for\n",
    "        fs[i] = puntos[i][1]\n",
    "        for j in range(len(puntos)):\n",
    "            if j != i:\n",
    "                xj = puntos[j][0]\n",
    "                xi = puntos[i][0]\n",
    "                Lis[i] *= (x - xj)/(xi - xj)\n",
    "    \n",
    "    return sum(fs*Lis)"
   ]
  },
  {
   "cell_type": "markdown",
   "metadata": {},
   "source": [
    "Agregamos los puntos que son faciles de ver en la función de Gauss dada."
   ]
  },
  {
   "cell_type": "code",
   "execution_count": 11,
   "metadata": {},
   "outputs": [
    {
     "data": {
      "text/plain": [
       "0.35"
      ]
     },
     "execution_count": 11,
     "metadata": {},
     "output_type": "execute_result"
    }
   ],
   "source": [
    "puntos1 = ([0, 0.4], [0.5, 0.35], [0.7, 0.31], [0.9, 0.266])\n",
    "lagrange(1/2, puntos1)"
   ]
  },
  {
   "cell_type": "code",
   "execution_count": 12,
   "metadata": {
    "scrolled": true
   },
   "outputs": [
    {
     "data": {
      "text/plain": [
       "<matplotlib.legend.Legend at 0x1736d4292e0>"
      ]
     },
     "execution_count": 12,
     "metadata": {},
     "output_type": "execute_result"
    },
    {
     "data": {
      "image/png": "[encoded data removed]",
      "text/plain": [
       "<Figure size 432x288 with 1 Axes>"
      ]
     },
     "metadata": {
      "needs_background": "light"
     },
     "output_type": "display_data"
    }
   ],
   "source": [
    "plt.plot(x, gaussiana(x), color = 'cyan', label = 'Gaussiana')\n",
    "plt.plot(x, [lagrange(xi, puntos1) for xi in x], color = 'black', linestyle=':', label = 'interpolacion')\n",
    "plt.legend()"
   ]
  },
  {
   "cell_type": "code",
   "execution_count": 70,
   "metadata": {},
   "outputs": [
    {
     "data": {
      "text/plain": [
       "list"
      ]
     },
     "execution_count": 70,
     "metadata": {},
     "output_type": "execute_result"
    }
   ],
   "source": [
    "type(x)"
   ]
  },
  {
   "cell_type": "markdown",
   "metadata": {},
   "source": [
    "Nuestro polinomio interpolante se acerca a la representación de la función de gauss. Ahora calculamos la integral del polinomio interpolado que encontramos para aproximarnos a la integral de la función Gaussiana."
   ]
  },
  {
   "cell_type": "code",
   "execution_count": 52,
   "metadata": {},
   "outputs": [],
   "source": [
    "from scipy import integrate\n",
    "from scipy import special"
   ]
  },
  {
   "cell_type": "markdown",
   "metadata": {},
   "source": [
    "Calcular los coeficientes que acompañan al polinomio e integrar el polinomio."
   ]
  },
  {
   "cell_type": "code",
   "execution_count": 13,
   "metadata": {},
   "outputs": [],
   "source": [
    "def difer(puntos):\n",
    "    \n",
    "    n = len(puntos) - 1\n",
    "    Fs = [np.zeros(n + 1)]\n",
    "    for i in range(n + 1):\n",
    "        Fs[0][i] = puntos[i][1]\n",
    "    for i in range(1, n + 1):\n",
    "        Fs.append(np.zeros(n + 1 - i))\n",
    "        for j in range(1, i + 1):\n",
    "            Fs[j][i-j] = (Fs[j-1][i-j+1] - Fs[j-1][i-j])/(puntos[i][0] - puntos[i-j][0])\n",
    "    \n",
    "    return [Fs[i][0] for i in range(n + 1)]"
   ]
  },
  {
   "cell_type": "code",
   "execution_count": 50,
   "metadata": {},
   "outputs": [],
   "source": [
    "puntos = np.array([(0, 0.4), (0.5, 0.35), (0.7, 0.31), (0.9, 0.27)]) #tuve que colocarle un [] extra, ya que me generaba un error de tuplas\n",
    "coef = difer(puntos)"
   ]
  },
  {
   "cell_type": "code",
   "execution_count": 51,
   "metadata": {},
   "outputs": [],
   "source": [
    "def poly(x, coefs):\n",
    "        \n",
    "    return sum(coef[n]*np.prod([(x - puntos[i,0]) for i in range(n)]) for n in range(len(coefs)))"
   ]
  },
  {
   "cell_type": "code",
   "execution_count": 52,
   "metadata": {},
   "outputs": [
    {
     "data": {
      "text/plain": [
       "[<matplotlib.lines.Line2D at 0x1736e9709d0>]"
      ]
     },
     "execution_count": 52,
     "metadata": {},
     "output_type": "execute_result"
    },
    {
     "data": {
      "image/png": "[encoded data removed]",
      "text/plain": [
       "<Figure size 432x288 with 1 Axes>"
      ]
     },
     "metadata": {
      "needs_background": "light"
     },
     "output_type": "display_data"
    }
   ],
   "source": [
    "plt.plot(x, [poly(xi, coef) for xi in x])"
   ]
  },
  {
   "cell_type": "code",
   "execution_count": 49,
   "metadata": {},
   "outputs": [
    {
     "data": {
      "text/plain": [
       "<matplotlib.collections.PathCollection at 0x1736e8def40>"
      ]
     },
     "execution_count": 49,
     "metadata": {},
     "output_type": "execute_result"
    },
    {
     "data": {
      "image/png": "[encoded data removed]",
      "text/plain": [
       "<Figure size 432x288 with 1 Axes>"
      ]
     },
     "metadata": {
      "needs_background": "light"
     },
     "output_type": "display_data"
    }
   ],
   "source": [
    "x = np.linspace(0, 2, 100)\n",
    "\n",
    "plt.plot(x, [poly(xi, coef) for xi in x])\n",
    "plt.scatter(puntos[:,0], puntos[:,1], color='red')"
   ]
  },
  {
   "cell_type": "markdown",
   "metadata": {},
   "source": [
    "Lo que necesito es integrar mi funcion poly entre 0 y 1"
   ]
  },
  {
   "cell_type": "code",
   "execution_count": 61,
   "metadata": {},
   "outputs": [],
   "source": [
    "H = (np.sqrt(np.pi)/2)"
   ]
  },
  {
   "cell_type": "code",
   "execution_count": 64,
   "metadata": {},
   "outputs": [
    {
     "data": {
      "text/plain": [
       "array([0.        , 0.02019927, 0.04038206, 0.06053194, 0.08063253,\n",
       "       0.10066761, 0.1206211 , 0.14047711, 0.16021999, 0.17983439,\n",
       "       0.19930523, 0.2186178 , 0.23775776, 0.25671117, 0.27546454,\n",
       "       0.29400485, 0.31231955, 0.33039663, 0.34822462, 0.36579261,\n",
       "       0.38309027, 0.40010785, 0.41683624, 0.43326693, 0.44939206,\n",
       "       0.46520439, 0.48069735, 0.495865  , 0.51070205, 0.52520387,\n",
       "       0.53936648, 0.55318651, 0.56666126, 0.57978863, 0.59256715,\n",
       "       0.60499593, 0.61707469, 0.6288037 , 0.6401838 , 0.65121637,\n",
       "       0.66190329, 0.67224693, 0.68225017, 0.69191631, 0.70124909,\n",
       "       0.71025266, 0.71893154, 0.72729061, 0.7353351 , 0.74307052,\n",
       "       0.75050268, 0.75763764, 0.76448171, 0.77104137, 0.77732333,\n",
       "       0.78333443, 0.78908166, 0.79457212, 0.79981299, 0.80481155,\n",
       "       0.8095751 , 0.814111  , 0.8184266 , 0.82252924, 0.82642626,\n",
       "       0.83012494, 0.83363251, 0.83695614, 0.84010289, 0.84307975,\n",
       "       0.8458936 , 0.84855119, 0.85105916, 0.85342398, 0.85565203,\n",
       "       0.85774948, 0.8597224 , 0.86157665, 0.86331795, 0.86495186,\n",
       "       0.86648373, 0.86791878, 0.86926203, 0.87051831, 0.87169231,\n",
       "       0.87278852, 0.87381125, 0.87476466, 0.87565272, 0.87647923,\n",
       "       0.87724783, 0.87796199, 0.87862503, 0.87924011, 0.87981023,\n",
       "       0.88033825, 0.88082687, 0.88127866, 0.88169607, 0.88208139])"
      ]
     },
     "execution_count": 64,
     "metadata": {},
     "output_type": "execute_result"
    }
   ],
   "source": [
    "H * scipy.special.erf(x)"
   ]
  },
  {
   "cell_type": "code",
   "execution_count": 63,
   "metadata": {},
   "outputs": [
    {
     "data": {
      "text/plain": [
       "0.7468241328124269"
      ]
     },
     "execution_count": 63,
     "metadata": {},
     "output_type": "execute_result"
    }
   ],
   "source": [
    "(np.sqrt(np.pi)/2) * scipy.special.erf(1)"
   ]
  },
  {
   "cell_type": "markdown",
   "metadata": {},
   "source": [
    "$$\n",
    "\\frac{\\sqrt{\\pi}}{2}\n",
    "$$"
   ]
  },
  {
   "cell_type": "code",
   "execution_count": 29,
   "metadata": {},
   "outputs": [
    {
     "data": {
      "text/plain": [
       "(0.34206349206349207, 3.797667647725734e-15)"
      ]
     },
     "execution_count": 29,
     "metadata": {},
     "output_type": "execute_result"
    }
   ],
   "source": [
    "integrate.quad(lambda x: poly(x, coef),0 , 1)"
   ]
  },
  {
   "cell_type": "code",
   "execution_count": 237,
   "metadata": {},
   "outputs": [
    {
     "data": {
      "text/plain": [
       "(0.341344746068543, 3.789687964201238e-15)"
      ]
     },
     "execution_count": 237,
     "metadata": {},
     "output_type": "execute_result"
    }
   ],
   "source": [
    "integrate.quad(f, 0, 1)"
   ]
  },
  {
   "cell_type": "code",
   "execution_count": 57,
   "metadata": {},
   "outputs": [
    {
     "data": {
      "text/plain": [
       "0.7468241328124269"
      ]
     },
     "execution_count": 57,
     "metadata": {},
     "output_type": "execute_result"
    }
   ],
   "source": [
    "import scipy\n",
    "np.sqrt(np.pi)/2 * scipy.special.erf(1)"
   ]
  },
  {
   "cell_type": "code",
   "execution_count": 33,
   "metadata": {},
   "outputs": [
    {
     "data": {
      "text/plain": [
       "0.8427007929497148"
      ]
     },
     "execution_count": 33,
     "metadata": {},
     "output_type": "execute_result"
    }
   ],
   "source": [
    "scipy.special.erf(1)"
   ]
  },
  {
   "cell_type": "code",
   "execution_count": 35,
   "metadata": {},
   "outputs": [
    {
     "data": {
      "image/png": "[encoded data removed]",
      "text/plain": [
       "<Figure size 432x288 with 1 Axes>"
      ]
     },
     "metadata": {
      "needs_background": "light"
     },
     "output_type": "display_data"
    }
   ],
   "source": [
    "x = np.linspace(0, 1)\n",
    "plt.plot(x, special.erf(x))\n",
    "plt.xlabel('$x$')\n",
    "plt.ylabel('$erf(x)$')\n",
    "plt.show()"
   ]
  },
  {
   "cell_type": "code",
   "execution_count": null,
   "metadata": {},
   "outputs": [],
   "source": []
  }
 ],
 "metadata": {
  "kernelspec": {
   "display_name": "Python 3",
   "language": "python",
   "name": "python3"
  },
  "language_info": {
   "codemirror_mode": {
    "name": "ipython",
    "version": 3
   },
   "file_extension": ".py",
   "mimetype": "text/x-python",
   "name": "python",
   "nbconvert_exporter": "python",
   "pygments_lexer": "ipython3",
   "version": "3.8.3"
  }
 },
 "nbformat": 4,
 "nbformat_minor": 4
}
